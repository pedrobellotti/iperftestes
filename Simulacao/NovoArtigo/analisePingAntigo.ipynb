{
 "cells": [
  {
   "cell_type": "code",
   "execution_count": 1,
   "metadata": {},
   "outputs": [
    {
     "name": "stderr",
     "output_type": "stream",
     "text": [
      "/home/joaovictor/.local/lib/python3.6/site-packages/statsmodels/tools/_testing.py:19: FutureWarning: pandas.util.testing is deprecated. Use the functions in the public API at pandas.testing instead.\n",
      "  import pandas.util.testing as tm\n"
     ]
    }
   ],
   "source": [
    "# Bibliotecas python\n",
    "import pandas as pd\n",
    "import numpy as np\n",
    "import matplotlib.pyplot as plt\n",
    "import seaborn as sns\n",
    "import glob\n",
    "import os\n",
    "import re\n",
    "%matplotlib inline\n",
    "\n",
    "# Função para calcular moda.\n",
    "from scipy import stats\n",
    "\n",
    "# Formatação dos gráficos\n",
    "from matplotlib.ticker import FuncFormatter\n",
    "from matplotlib.legend import Legend\n",
    "\n",
    "import statsmodels.api as sm"
   ]
  },
  {
   "cell_type": "code",
   "execution_count": 2,
   "metadata": {},
   "outputs": [],
   "source": [
    "# Configurando o tema do gráfico\n",
    "myrcs = {\"axes.titleweight\": \"bold\", \"lines.markersize\": 9.0, \"lines.linewidth\": 2.0, \"legend.title_fontsize\": 13.75}\n",
    "sns.set (style=\"whitegrid\", font_scale=1.35, rc=myrcs)\n",
    "sns.set_palette (sns.color_palette ([\"#b2df8a\", \"#33a02c\", \"#cab2d6\", \"#6a3d9a\"]))\n",
    "sns.set_palette (sns.color_palette ([\"#b2df8a\", \"#33a02c\", \"#fdbf6f\", \"#ff7f00\"]))\n",
    "sns.set_palette (sns.color_palette (\"Paired\"))\n",
    "\n",
    "\n",
    "\n",
    "\n",
    "# Linhas exibidas por padrão nos dataframes\n",
    "pd.options.display.min_rows = 20"
   ]
  },
  {
   "cell_type": "code",
   "execution_count": 3,
   "metadata": {},
   "outputs": [],
   "source": [
    "#Configurações\n",
    "# A1 - com switch HW, não podendo aumentar/diminuir número de switches SW (número máximo de SW = 1)\n",
    "# A5 - com switch HW, podendo aumentar/diminuir número de switches SW (número máximo de SW = 5)\n",
    "# B - sem switch HW, podendo aumentar/diminuir número de switches SW (número máximo de SW = 5)\n",
    "# D - com switch HW, não podendo aumentar/diminuir número de switches SW (número de SW fixo em 5)\n",
    "# E - sem switch HW, não podendo aumentar/diminuir número de switches SW (número de SW fixo em 5)\n",
    "\n",
    "#Nomes das configurações nos gráficos:\n",
    "# D = (HW = 1; SW = 5); B = (HW = 0; SW = 1-5); A5 = (HW = 1; SW = 1-5); E = (HW = 0; SW = 5)\n",
    "\n",
    "# Parâmetros que variam nesta simulação\n",
    "seeds = [1,2]\n",
    "cargas = [\"50hosts\", \"100hosts\", \"150hosts\"]\n",
    "experimentos = [\"e\",\"b\",\"d\",\"a5\",\"a1\"]\n",
    "\n",
    "# Tempo total de simulação\n",
    "t_sim = 2000\n",
    "\n",
    "# Intervalo de confiança\n",
    "confianca = 99\n",
    "\n",
    "# Imprimir titulos nos gráficos\n",
    "titulos = False\n",
    "\n",
    "# Salvar graficos\n",
    "salvarGraficos = False"
   ]
  },
  {
   "cell_type": "code",
   "execution_count": 4,
   "metadata": {},
   "outputs": [],
   "source": [
    "def read_df_saidaStruct ():\n",
    "    df_carga = []\n",
    "    for carga in cargas:\n",
    "        df_exp = []\n",
    "        for experimento in experimentos:\n",
    "            df_sed = []\n",
    "            for seed in seeds:\n",
    "                df = pd.read_csv (\"saidas/ping/\"+carga+\"/seed\"+str(seed)+\"/\"+experimento+\"-\"+carga+\"-\"+str(seed)+\"-saidaStruct.log\", sep='\\s+', index_col=[\"Cookie\"])\n",
    "                df_sed.append (df)\n",
    "            df_exp.append(pd.concat (df_sed, keys=seeds))\n",
    "        df_carga.append (pd.concat (df_exp, keys=experimentos))\n",
    "    df_read = pd.concat (df_carga, keys=cargas, names=[\"Load\",\"Experimento\",\"Seed\",\"Cookie\"], copy=False)\n",
    "    df_read.rename({\"50hosts\": \"Low\", \"100hosts\": \"Medium\", \"150hosts\": \"High\"}, inplace=True)\n",
    "    return df_read\n",
    "\n",
    "def read_df_cache ():\n",
    "    df_carga = []\n",
    "    for carga in cargas:\n",
    "        df_exp = []\n",
    "        for experimento in experimentos:\n",
    "            df_sed = []\n",
    "            for seed in seeds:\n",
    "                df = pd.read_csv (\"saidas/ping/\"+carga+\"/seed\"+str(seed)+\"/\"+experimento+\"-\"+carga+\"-\"+str(seed)+\"-traffic-qos-l7-app.log\", sep='\\s+', index_col=[\"Teid\"])\n",
    "                df_sed.append (df)\n",
    "            df_exp.append(pd.concat (df_sed, keys=seeds))\n",
    "        df_carga.append (pd.concat (df_exp, keys=experimentos))\n",
    "    df_read = pd.concat (df_carga, keys=cargas, names=[\"Load\",\"Experimento\",\"Seed\",\"Cookie\"], copy=False)\n",
    "    df_read.rename({\"50hosts\": \"Low\", \"100hosts\": \"Medium\", \"150hosts\": \"High\"}, inplace=True)\n",
    "    return df_read"
   ]
  },
  {
   "cell_type": "code",
   "execution_count": 5,
   "metadata": {},
   "outputs": [
    {
     "ename": "FileNotFoundError",
     "evalue": "[Errno 2] No such file or directory: 'saidas/ping/50hosts/seed1/e-50hosts-1-saidaStruct.log'",
     "output_type": "error",
     "traceback": [
      "\u001b[0;31m---------------------------------------------------------------------------\u001b[0m",
      "\u001b[0;31mFileNotFoundError\u001b[0m                         Traceback (most recent call last)",
      "\u001b[0;32m<ipython-input-5-fc060516c835>\u001b[0m in \u001b[0;36m<module>\u001b[0;34m\u001b[0m\n\u001b[0;32m----> 1\u001b[0;31m \u001b[0mdf_struct\u001b[0m \u001b[0;34m=\u001b[0m \u001b[0mread_df_saidaStruct\u001b[0m\u001b[0;34m(\u001b[0m\u001b[0;34m)\u001b[0m\u001b[0;34m\u001b[0m\u001b[0;34m\u001b[0m\u001b[0m\n\u001b[0m\u001b[1;32m      2\u001b[0m \u001b[0;31m#f = df.loc[(df[\"InCache\"]!=0)]\u001b[0m\u001b[0;34m\u001b[0m\u001b[0;34m\u001b[0m\u001b[0;34m\u001b[0m\u001b[0m\n\u001b[1;32m      3\u001b[0m \u001b[0;31m#df_struct\u001b[0m\u001b[0;34m\u001b[0m\u001b[0;34m\u001b[0m\u001b[0;34m\u001b[0m\u001b[0m\n",
      "\u001b[0;32m<ipython-input-4-f0a3c2d44d9e>\u001b[0m in \u001b[0;36mread_df_saidaStruct\u001b[0;34m()\u001b[0m\n\u001b[1;32m      6\u001b[0m             \u001b[0mdf_sed\u001b[0m \u001b[0;34m=\u001b[0m \u001b[0;34m[\u001b[0m\u001b[0;34m]\u001b[0m\u001b[0;34m\u001b[0m\u001b[0;34m\u001b[0m\u001b[0m\n\u001b[1;32m      7\u001b[0m             \u001b[0;32mfor\u001b[0m \u001b[0mseed\u001b[0m \u001b[0;32min\u001b[0m \u001b[0mseeds\u001b[0m\u001b[0;34m:\u001b[0m\u001b[0;34m\u001b[0m\u001b[0;34m\u001b[0m\u001b[0m\n\u001b[0;32m----> 8\u001b[0;31m                 \u001b[0mdf\u001b[0m \u001b[0;34m=\u001b[0m \u001b[0mpd\u001b[0m\u001b[0;34m.\u001b[0m\u001b[0mread_csv\u001b[0m \u001b[0;34m(\u001b[0m\u001b[0;34m\"saidas/ping/\"\u001b[0m\u001b[0;34m+\u001b[0m\u001b[0mcarga\u001b[0m\u001b[0;34m+\u001b[0m\u001b[0;34m\"/seed\"\u001b[0m\u001b[0;34m+\u001b[0m\u001b[0mstr\u001b[0m\u001b[0;34m(\u001b[0m\u001b[0mseed\u001b[0m\u001b[0;34m)\u001b[0m\u001b[0;34m+\u001b[0m\u001b[0;34m\"/\"\u001b[0m\u001b[0;34m+\u001b[0m\u001b[0mexperimento\u001b[0m\u001b[0;34m+\u001b[0m\u001b[0;34m\"-\"\u001b[0m\u001b[0;34m+\u001b[0m\u001b[0mcarga\u001b[0m\u001b[0;34m+\u001b[0m\u001b[0;34m\"-\"\u001b[0m\u001b[0;34m+\u001b[0m\u001b[0mstr\u001b[0m\u001b[0;34m(\u001b[0m\u001b[0mseed\u001b[0m\u001b[0;34m)\u001b[0m\u001b[0;34m+\u001b[0m\u001b[0;34m\"-saidaStruct.log\"\u001b[0m\u001b[0;34m,\u001b[0m \u001b[0msep\u001b[0m\u001b[0;34m=\u001b[0m\u001b[0;34m'\\s+'\u001b[0m\u001b[0;34m,\u001b[0m \u001b[0mindex_col\u001b[0m\u001b[0;34m=\u001b[0m\u001b[0;34m[\u001b[0m\u001b[0;34m\"Cookie\"\u001b[0m\u001b[0;34m]\u001b[0m\u001b[0;34m)\u001b[0m\u001b[0;34m\u001b[0m\u001b[0;34m\u001b[0m\u001b[0m\n\u001b[0m\u001b[1;32m      9\u001b[0m                 \u001b[0mdf_sed\u001b[0m\u001b[0;34m.\u001b[0m\u001b[0mappend\u001b[0m \u001b[0;34m(\u001b[0m\u001b[0mdf\u001b[0m\u001b[0;34m)\u001b[0m\u001b[0;34m\u001b[0m\u001b[0;34m\u001b[0m\u001b[0m\n\u001b[1;32m     10\u001b[0m             \u001b[0mdf_exp\u001b[0m\u001b[0;34m.\u001b[0m\u001b[0mappend\u001b[0m\u001b[0;34m(\u001b[0m\u001b[0mpd\u001b[0m\u001b[0;34m.\u001b[0m\u001b[0mconcat\u001b[0m \u001b[0;34m(\u001b[0m\u001b[0mdf_sed\u001b[0m\u001b[0;34m,\u001b[0m \u001b[0mkeys\u001b[0m\u001b[0;34m=\u001b[0m\u001b[0mseeds\u001b[0m\u001b[0;34m)\u001b[0m\u001b[0;34m)\u001b[0m\u001b[0;34m\u001b[0m\u001b[0;34m\u001b[0m\u001b[0m\n",
      "\u001b[0;32m~/.local/lib/python3.6/site-packages/pandas/io/parsers.py\u001b[0m in \u001b[0;36mread_csv\u001b[0;34m(filepath_or_buffer, sep, delimiter, header, names, index_col, usecols, squeeze, prefix, mangle_dupe_cols, dtype, engine, converters, true_values, false_values, skipinitialspace, skiprows, skipfooter, nrows, na_values, keep_default_na, na_filter, verbose, skip_blank_lines, parse_dates, infer_datetime_format, keep_date_col, date_parser, dayfirst, cache_dates, iterator, chunksize, compression, thousands, decimal, lineterminator, quotechar, quoting, doublequote, escapechar, comment, encoding, dialect, error_bad_lines, warn_bad_lines, delim_whitespace, low_memory, memory_map, float_precision)\u001b[0m\n\u001b[1;32m    684\u001b[0m     )\n\u001b[1;32m    685\u001b[0m \u001b[0;34m\u001b[0m\u001b[0m\n\u001b[0;32m--> 686\u001b[0;31m     \u001b[0;32mreturn\u001b[0m \u001b[0m_read\u001b[0m\u001b[0;34m(\u001b[0m\u001b[0mfilepath_or_buffer\u001b[0m\u001b[0;34m,\u001b[0m \u001b[0mkwds\u001b[0m\u001b[0;34m)\u001b[0m\u001b[0;34m\u001b[0m\u001b[0;34m\u001b[0m\u001b[0m\n\u001b[0m\u001b[1;32m    687\u001b[0m \u001b[0;34m\u001b[0m\u001b[0m\n\u001b[1;32m    688\u001b[0m \u001b[0;34m\u001b[0m\u001b[0m\n",
      "\u001b[0;32m~/.local/lib/python3.6/site-packages/pandas/io/parsers.py\u001b[0m in \u001b[0;36m_read\u001b[0;34m(filepath_or_buffer, kwds)\u001b[0m\n\u001b[1;32m    450\u001b[0m \u001b[0;34m\u001b[0m\u001b[0m\n\u001b[1;32m    451\u001b[0m     \u001b[0;31m# Create the parser.\u001b[0m\u001b[0;34m\u001b[0m\u001b[0;34m\u001b[0m\u001b[0;34m\u001b[0m\u001b[0m\n\u001b[0;32m--> 452\u001b[0;31m     \u001b[0mparser\u001b[0m \u001b[0;34m=\u001b[0m \u001b[0mTextFileReader\u001b[0m\u001b[0;34m(\u001b[0m\u001b[0mfp_or_buf\u001b[0m\u001b[0;34m,\u001b[0m \u001b[0;34m**\u001b[0m\u001b[0mkwds\u001b[0m\u001b[0;34m)\u001b[0m\u001b[0;34m\u001b[0m\u001b[0;34m\u001b[0m\u001b[0m\n\u001b[0m\u001b[1;32m    453\u001b[0m \u001b[0;34m\u001b[0m\u001b[0m\n\u001b[1;32m    454\u001b[0m     \u001b[0;32mif\u001b[0m \u001b[0mchunksize\u001b[0m \u001b[0;32mor\u001b[0m \u001b[0miterator\u001b[0m\u001b[0;34m:\u001b[0m\u001b[0;34m\u001b[0m\u001b[0;34m\u001b[0m\u001b[0m\n",
      "\u001b[0;32m~/.local/lib/python3.6/site-packages/pandas/io/parsers.py\u001b[0m in \u001b[0;36m__init__\u001b[0;34m(self, f, engine, **kwds)\u001b[0m\n\u001b[1;32m    934\u001b[0m             \u001b[0mself\u001b[0m\u001b[0;34m.\u001b[0m\u001b[0moptions\u001b[0m\u001b[0;34m[\u001b[0m\u001b[0;34m\"has_index_names\"\u001b[0m\u001b[0;34m]\u001b[0m \u001b[0;34m=\u001b[0m \u001b[0mkwds\u001b[0m\u001b[0;34m[\u001b[0m\u001b[0;34m\"has_index_names\"\u001b[0m\u001b[0;34m]\u001b[0m\u001b[0;34m\u001b[0m\u001b[0;34m\u001b[0m\u001b[0m\n\u001b[1;32m    935\u001b[0m \u001b[0;34m\u001b[0m\u001b[0m\n\u001b[0;32m--> 936\u001b[0;31m         \u001b[0mself\u001b[0m\u001b[0;34m.\u001b[0m\u001b[0m_make_engine\u001b[0m\u001b[0;34m(\u001b[0m\u001b[0mself\u001b[0m\u001b[0;34m.\u001b[0m\u001b[0mengine\u001b[0m\u001b[0;34m)\u001b[0m\u001b[0;34m\u001b[0m\u001b[0;34m\u001b[0m\u001b[0m\n\u001b[0m\u001b[1;32m    937\u001b[0m \u001b[0;34m\u001b[0m\u001b[0m\n\u001b[1;32m    938\u001b[0m     \u001b[0;32mdef\u001b[0m \u001b[0mclose\u001b[0m\u001b[0;34m(\u001b[0m\u001b[0mself\u001b[0m\u001b[0;34m)\u001b[0m\u001b[0;34m:\u001b[0m\u001b[0;34m\u001b[0m\u001b[0;34m\u001b[0m\u001b[0m\n",
      "\u001b[0;32m~/.local/lib/python3.6/site-packages/pandas/io/parsers.py\u001b[0m in \u001b[0;36m_make_engine\u001b[0;34m(self, engine)\u001b[0m\n\u001b[1;32m   1166\u001b[0m     \u001b[0;32mdef\u001b[0m \u001b[0m_make_engine\u001b[0m\u001b[0;34m(\u001b[0m\u001b[0mself\u001b[0m\u001b[0;34m,\u001b[0m \u001b[0mengine\u001b[0m\u001b[0;34m=\u001b[0m\u001b[0;34m\"c\"\u001b[0m\u001b[0;34m)\u001b[0m\u001b[0;34m:\u001b[0m\u001b[0;34m\u001b[0m\u001b[0;34m\u001b[0m\u001b[0m\n\u001b[1;32m   1167\u001b[0m         \u001b[0;32mif\u001b[0m \u001b[0mengine\u001b[0m \u001b[0;34m==\u001b[0m \u001b[0;34m\"c\"\u001b[0m\u001b[0;34m:\u001b[0m\u001b[0;34m\u001b[0m\u001b[0;34m\u001b[0m\u001b[0m\n\u001b[0;32m-> 1168\u001b[0;31m             \u001b[0mself\u001b[0m\u001b[0;34m.\u001b[0m\u001b[0m_engine\u001b[0m \u001b[0;34m=\u001b[0m \u001b[0mCParserWrapper\u001b[0m\u001b[0;34m(\u001b[0m\u001b[0mself\u001b[0m\u001b[0;34m.\u001b[0m\u001b[0mf\u001b[0m\u001b[0;34m,\u001b[0m \u001b[0;34m**\u001b[0m\u001b[0mself\u001b[0m\u001b[0;34m.\u001b[0m\u001b[0moptions\u001b[0m\u001b[0;34m)\u001b[0m\u001b[0;34m\u001b[0m\u001b[0;34m\u001b[0m\u001b[0m\n\u001b[0m\u001b[1;32m   1169\u001b[0m         \u001b[0;32melse\u001b[0m\u001b[0;34m:\u001b[0m\u001b[0;34m\u001b[0m\u001b[0;34m\u001b[0m\u001b[0m\n\u001b[1;32m   1170\u001b[0m             \u001b[0;32mif\u001b[0m \u001b[0mengine\u001b[0m \u001b[0;34m==\u001b[0m \u001b[0;34m\"python\"\u001b[0m\u001b[0;34m:\u001b[0m\u001b[0;34m\u001b[0m\u001b[0;34m\u001b[0m\u001b[0m\n",
      "\u001b[0;32m~/.local/lib/python3.6/site-packages/pandas/io/parsers.py\u001b[0m in \u001b[0;36m__init__\u001b[0;34m(self, src, **kwds)\u001b[0m\n\u001b[1;32m   1996\u001b[0m         \u001b[0mkwds\u001b[0m\u001b[0;34m[\u001b[0m\u001b[0;34m\"usecols\"\u001b[0m\u001b[0;34m]\u001b[0m \u001b[0;34m=\u001b[0m \u001b[0mself\u001b[0m\u001b[0;34m.\u001b[0m\u001b[0musecols\u001b[0m\u001b[0;34m\u001b[0m\u001b[0;34m\u001b[0m\u001b[0m\n\u001b[1;32m   1997\u001b[0m \u001b[0;34m\u001b[0m\u001b[0m\n\u001b[0;32m-> 1998\u001b[0;31m         \u001b[0mself\u001b[0m\u001b[0;34m.\u001b[0m\u001b[0m_reader\u001b[0m \u001b[0;34m=\u001b[0m \u001b[0mparsers\u001b[0m\u001b[0;34m.\u001b[0m\u001b[0mTextReader\u001b[0m\u001b[0;34m(\u001b[0m\u001b[0msrc\u001b[0m\u001b[0;34m,\u001b[0m \u001b[0;34m**\u001b[0m\u001b[0mkwds\u001b[0m\u001b[0;34m)\u001b[0m\u001b[0;34m\u001b[0m\u001b[0;34m\u001b[0m\u001b[0m\n\u001b[0m\u001b[1;32m   1999\u001b[0m         \u001b[0mself\u001b[0m\u001b[0;34m.\u001b[0m\u001b[0munnamed_cols\u001b[0m \u001b[0;34m=\u001b[0m \u001b[0mself\u001b[0m\u001b[0;34m.\u001b[0m\u001b[0m_reader\u001b[0m\u001b[0;34m.\u001b[0m\u001b[0munnamed_cols\u001b[0m\u001b[0;34m\u001b[0m\u001b[0;34m\u001b[0m\u001b[0m\n\u001b[1;32m   2000\u001b[0m \u001b[0;34m\u001b[0m\u001b[0m\n",
      "\u001b[0;32mpandas/_libs/parsers.pyx\u001b[0m in \u001b[0;36mpandas._libs.parsers.TextReader.__cinit__\u001b[0;34m()\u001b[0m\n",
      "\u001b[0;32mpandas/_libs/parsers.pyx\u001b[0m in \u001b[0;36mpandas._libs.parsers.TextReader._setup_parser_source\u001b[0;34m()\u001b[0m\n",
      "\u001b[0;31mFileNotFoundError\u001b[0m: [Errno 2] No such file or directory: 'saidas/ping/50hosts/seed1/e-50hosts-1-saidaStruct.log'"
     ]
    }
   ],
   "source": [
    "df_struct = read_df_saidaStruct()\n",
    "#f = df.loc[(df[\"InCache\"]!=0)]\n",
    "#df_struct"
   ]
  },
  {
   "cell_type": "code",
   "execution_count": null,
   "metadata": {},
   "outputs": [],
   "source": [
    "df_cache = read_df_cache()\n",
    "#df_cache"
   ]
  },
  {
   "cell_type": "code",
   "execution_count": null,
   "metadata": {},
   "outputs": [],
   "source": [
    "df_concatenado = pd.merge(df_struct, df_cache, how='left', on = ['Cookie', 'Load','Experimento', 'Seed'])\n",
    "df_concatenado.reset_index(inplace=True)\n",
    "#df_concatenado"
   ]
  },
  {
   "cell_type": "code",
   "execution_count": null,
   "metadata": {},
   "outputs": [],
   "source": [
    "snsplt = sns.catplot( x=\"InCache\", y=\"Dly:ms\", kind=\"bar\",  height=3.5, aspect=1,\n",
    "                      ci=confianca, data=df_concatenado, row=\"Experimento\" , col=\"Load\",col_order=[\"Low\",\"Medium\",\"High\"])\n",
    "snsplt.set_titles(\"{col_name} load, {row_name}\")\n",
    "snsplt.set_axis_labels(\"InCache\", \"Delay\")\n",
    "if (titulos):\n",
    "    snsplt.fig.suptitle('title', y=1.05)\n",
    "snsplt.set(ylim=(0,2))\n",
    "snsplt.set_xticklabels(rotation=45, size=12)\n",
    "#snsplt.fig.set_size_inches(11,4)\n",
    "snsplt.despine(left=True)\n",
    "if (salvarGraficos):\n",
    "    snsplt.savefig(\"nome.pdf\")"
   ]
  },
  {
   "cell_type": "code",
   "execution_count": null,
   "metadata": {},
   "outputs": [],
   "source": [
    "snsplt = sns.catplot( x=\"InCache\", y=\"Jit:ms\", kind=\"bar\",  height=3.5, aspect=1,\n",
    "                      ci=confianca, data=df_concatenado, row=\"Experimento\" , col=\"Load\",col_order=[\"Low\",\"Medium\",\"High\"])\n",
    "snsplt.set_titles(\"{col_name} load, {row_name}\")\n",
    "snsplt.set_axis_labels(\"InCache\", \"Jitter\")\n",
    "if (titulos):\n",
    "    snsplt.fig.suptitle('title', y=1.05)\n",
    "snsplt.set(ylim=(0,0.003))\n",
    "snsplt.set_xticklabels(rotation=45, size=12)\n",
    "#snsplt.fig.set_size_inches(11,4)\n",
    "snsplt.despine(left=True)\n",
    "if (salvarGraficos):\n",
    "    snsplt.savefig(\"nome.pdf\")"
   ]
  },
  {
   "cell_type": "code",
   "execution_count": null,
   "metadata": {},
   "outputs": [],
   "source": [
    "seedsPing=[1]"
   ]
  },
  {
   "cell_type": "code",
   "execution_count": null,
   "metadata": {},
   "outputs": [],
   "source": [
    "def read_df_pingNaoMovida ():\n",
    "    df_sed = []\n",
    "    for seed in seedsPing:\n",
    "        df = pd.read_csv (\"saidas/pingv2/150hosts/seed\"+str(seed)+\"/a5-150hosts-\"+str(seed)+\"-Ping-0x0a009f2776759611_0x0a009f2776759611.log\", sep='\\s+')\n",
    "        df_sed.append (df)\n",
    "    df_read = pd.concat (df_sed, copy=False)\n",
    "    return df_read"
   ]
  },
  {
   "cell_type": "code",
   "execution_count": null,
   "metadata": {},
   "outputs": [],
   "source": [
    "def read_df_pingMovida ():\n",
    "    df_sed = []\n",
    "    for seed in seedsPing:\n",
    "        df = pd.read_csv (\"saidas/pingv2/150hosts/seed\"+str(seed)+\"/a5-150hosts-\"+str(seed)+\"-Ping-0x0ae0ad278a75aa11_0x0ae0ad278a75aa11.log\", sep='\\s+')\n",
    "        df_sed.append (df)\n",
    "    df_read = pd.concat (df_sed, copy=False)\n",
    "    return df_read"
   ]
  },
  {
   "cell_type": "code",
   "execution_count": null,
   "metadata": {},
   "outputs": [],
   "source": [
    "df_naoMovida = read_df_pingNaoMovida()\n",
    "#df_naoMovida"
   ]
  },
  {
   "cell_type": "code",
   "execution_count": null,
   "metadata": {},
   "outputs": [],
   "source": [
    "df_Movida = read_df_pingMovida() #MOVIDA EM 240s\n",
    "df_Movida = df_Movida.query(\"Time > 230 and Time < 250\")\n",
    "#df_Movida"
   ]
  },
  {
   "cell_type": "code",
   "execution_count": null,
   "metadata": {},
   "outputs": [],
   "source": [
    "x= np.sort(df_naoMovida[\"Delay\"])\n",
    "ecdf = sm.distributions.ECDF(df_naoMovida[\"Delay\"])\n",
    "y = ecdf(x)\n",
    "\n",
    "plt.title(\"Delay cookie não movido\")\n",
    "plt.step(x, y, where='post')\n",
    "plt.ylabel(r'$P(X \\leq x)$')\n",
    "plt.xlabel('Delay (ns)')\n",
    "plt.show()"
   ]
  },
  {
   "cell_type": "code",
   "execution_count": null,
   "metadata": {},
   "outputs": [],
   "source": [
    "x= df_naoMovida[\"Jitter\"]\n",
    "ecdf = sm.distributions.ECDF(df_naoMovida[\"Jitter\"])\n",
    "y = ecdf(x)\n",
    "\n",
    "plt.title(\"Jitter cookie não movido\")\n",
    "plt.step(x, y, where='post')\n",
    "plt.ylabel(r'$P(X \\leq x)$')\n",
    "plt.xlabel('Jitter')\n",
    "plt.show()"
   ]
  },
  {
   "cell_type": "code",
   "execution_count": null,
   "metadata": {},
   "outputs": [],
   "source": [
    "x= np.sort(df_Movida[\"Delay\"])\n",
    "ecdf = sm.distributions.ECDF(df_Movida[\"Delay\"])\n",
    "y = ecdf(x)\n",
    "\n",
    "plt.title(\"Delay cookie movido em 240s (entre 230s e 250s)\")\n",
    "plt.step(x, y, where='post')\n",
    "plt.ylabel(r'$P(X \\leq x)$')\n",
    "plt.xlabel('Delay')\n",
    "plt.show()"
   ]
  },
  {
   "cell_type": "code",
   "execution_count": null,
   "metadata": {},
   "outputs": [],
   "source": [
    "x= np.sort(df_Movida[\"Jitter\"])\n",
    "ecdf = sm.distributions.ECDF(df_Movida[\"Jitter\"])\n",
    "y = ecdf(x)\n",
    "\n",
    "plt.title(\"Jitter cookie movido em 240s (entre 230s e 250s)\")\n",
    "plt.step(x, y, where='post')\n",
    "plt.ylabel(r'$P(X \\leq x)$')\n",
    "plt.xlabel('Jitter')\n",
    "plt.show()"
   ]
  },
  {
   "cell_type": "code",
   "execution_count": null,
   "metadata": {},
   "outputs": [],
   "source": []
  }
 ],
 "metadata": {
  "kernelspec": {
   "display_name": "Python 3",
   "language": "python",
   "name": "python3"
  },
  "language_info": {
   "codemirror_mode": {
    "name": "ipython",
    "version": 3
   },
   "file_extension": ".py",
   "mimetype": "text/x-python",
   "name": "python",
   "nbconvert_exporter": "python",
   "pygments_lexer": "ipython3",
   "version": "3.6.9"
  }
 },
 "nbformat": 4,
 "nbformat_minor": 4
}
